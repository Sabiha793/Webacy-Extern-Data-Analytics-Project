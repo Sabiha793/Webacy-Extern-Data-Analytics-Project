{
  "nbformat": 4,
  "nbformat_minor": 0,
  "metadata": {
    "colab": {
      "provenance": [],
      "include_colab_link": true
    },
    "kernelspec": {
      "name": "python3",
      "display_name": "Python 3"
    },
    "language_info": {
      "name": "python"
    }
  },
  "cells": [
    {
      "cell_type": "markdown",
      "metadata": {
        "id": "view-in-github",
        "colab_type": "text"
      },
      "source": [
        "<a href=\"https://colab.research.google.com/github/Sabiha793/Webacy-Extern-Data-Analytics-Project/blob/main/Extern_Frequency_Analysis_of_Smart_Contract_Risks.ipynb\" target=\"_parent\"><img src=\"https://colab.research.google.com/assets/colab-badge.svg\" alt=\"Open In Colab\"/></a>"
      ]
    },
    {
      "cell_type": "markdown",
      "source": [
        "# Advanced Frequency Analysis of Smart Contract Risks\n",
        "\n",
        "Welcome to this interactive tutorial on conducting advanced frequency analysis using Python in Google Colab!\n",
        "\n",
        "## Objective\n",
        "The objective of this notebook is to teach you how to handle larger datasets and create dynamic visualizations to analyze the frequency of risk tags associated with smart contracts. This will involve loading data, performing data manipulation, and visualizing the results using Python libraries such as pandas, matplotlib, and seaborn.\n",
        "\n",
        "## Before You Start\n",
        "This notebook assumes you have some familiarity with basic programming concepts and a basic understanding of Python. If you are completely new to Python, I recommend reviewing Python basics before proceeding.\n",
        "\n",
        "Let's get started by setting up our environment and loading the data!\n"
      ],
      "metadata": {
        "id": "xDrhJDYtc6u6"
      }
    },
    {
      "cell_type": "markdown",
      "source": [
        "### Step 1: Import libraries"
      ],
      "metadata": {
        "id": "Xo1hNmHNdFvM"
      }
    },
    {
      "cell_type": "code",
      "source": [
        "# Import necessary libraries\n",
        "import pandas as pd\n",
        "import seaborn as sns\n",
        "import matplotlib.pyplot as plt\n",
        "\n",
        "# Display plots inline\n",
        "%matplotlib inline\n",
        "\n"
      ],
      "metadata": {
        "id": "Q2FJAW-0c-og"
      },
      "execution_count": null,
      "outputs": []
    },
    {
      "cell_type": "markdown",
      "source": [
        "### Step 2: Download the dataset"
      ],
      "metadata": {
        "id": "ijvijUUUdLhm"
      }
    },
    {
      "cell_type": "markdown",
      "source": [
        "Please note that the dataset that will be downloaded below is a dummy dataset that has been designed for the tutorial. You need to use the actualy dataset provided to you for the analysis."
      ],
      "metadata": {
        "id": "kf55WlVCu0V9"
      }
    },
    {
      "cell_type": "code",
      "source": [
        "!gdown 1NYR65tYzMe4Rwc0kFyTEj2nerJJFRf6n"
      ],
      "metadata": {
        "colab": {
          "base_uri": "https://localhost:8080/"
        },
        "id": "Zyf23vVqdDc2",
        "outputId": "08b563d1-aa86-45da-f23a-7185ee4bdb7c"
      },
      "execution_count": null,
      "outputs": [
        {
          "output_type": "stream",
          "name": "stdout",
          "text": [
            "Downloading...\n",
            "From: https://drive.google.com/uc?id=1NYR65tYzMe4Rwc0kFyTEj2nerJJFRf6n\n",
            "To: /content/webacy_risk_dataset.xlsx\n",
            "\r  0% 0.00/28.2k [00:00<?, ?B/s]\r100% 28.2k/28.2k [00:00<00:00, 55.5MB/s]\n"
          ]
        }
      ]
    },
    {
      "cell_type": "code",
      "source": [
        "print(\"Setup complete. Imported pandas, seaborn, and matplotlib. Downloaded Webacy dummy dataset.\")"
      ],
      "metadata": {
        "colab": {
          "base_uri": "https://localhost:8080/"
        },
        "id": "-zOFQdcuf01o",
        "outputId": "ec17966b-a2c4-4862-f059-f8af00f7878f"
      },
      "execution_count": null,
      "outputs": [
        {
          "output_type": "stream",
          "name": "stdout",
          "text": [
            "Setup complete. Imported pandas, seaborn, and matplotlib. Downloaded Webacy dummy dataset.\n"
          ]
        }
      ]
    },
    {
      "cell_type": "markdown",
      "source": [
        "### Step 3: Load the Data Section\n",
        "\n",
        "Now even though we have downloaded the dataset, we still need to load it into our Python environment. For this we will utilize the Pandas library."
      ],
      "metadata": {
        "id": "S6C7xRsqgJ6J"
      }
    },
    {
      "cell_type": "code",
      "source": [
        "# Loading the dataset\n",
        "\n",
        "df = pd.read_excel('compiled_risk_data.xlsx')\n",
        "\n",
        "# Display the first five rows of the dataframe\n",
        "df.head()"
      ],
      "metadata": {
        "colab": {
          "base_uri": "https://localhost:8080/",
          "height": 394
        },
        "id": "9iNtVq0cgXGI",
        "outputId": "571a791b-c0fd-466b-d65b-370e9d23621a"
      },
      "execution_count": null,
      "outputs": [
        {
          "output_type": "execute_result",
          "data": {
            "text/plain": [
              "     project_name                      Smart contract address  \\\n",
              "0  Data Analytics    384571416209d08623c6ace9422613fc8970475d   \n",
              "1  Data Analytics   0xAb5801a7D398351b8bE11C439e05C5B3259ae9B   \n",
              "2  Data Analytics  0x4B20993Bc481177ec7E8f571ceCaE8A9e22C02db   \n",
              "3  Data Analytics  0x78731D3Ca6b7E34aC0F824c42a7cC18A495cabaB   \n",
              "4  Data Analytics  0x617F2E2fD72FD9D5503197092aC168c91465E7f2   \n",
              "\n",
              "                                      Blog post link  \\\n",
              "0  https://chainsecurity.com/security-audit/circl...   \n",
              "1  https://stackoverflow.com/questions/75030483/w...   \n",
              "2  https://stackoverflow.com/questions/71115106/s...   \n",
              "3  https://stackoverflow.com/questions/75030483/w...   \n",
              "4  https://stackoverflow.com/questions/69466137/h...   \n",
              "\n",
              "                                       Audit website     Chain  \\\n",
              "0                          https://chainsecurity.com  Ethereum   \n",
              "1  https://studygroup.moralis.io/t/compilation-er...  Ethereum   \n",
              "2  https://ethereum.stackexchange.com/questions/1...  Ethereum   \n",
              "3  https://studygroup.moralis.io/t/compilation-er...  Ethereum   \n",
              "4  https://ethereum.stackexchange.com/questions/1...  Ethereum   \n",
              "\n",
              "   Is_closed_source  hidden_owner  anti_whale_modifiable  Is_anti_whale  \\\n",
              "0             False         False                  False          False   \n",
              "1             False         False                   True           True   \n",
              "2              True         False                  False           True   \n",
              "3              True         False                  False          False   \n",
              "4              True         False                   True          False   \n",
              "\n",
              "   Is_honeypot  ...  centralized_risk_high  centralized_risk_low  \\\n",
              "0        False  ...                  False                 False   \n",
              "1        False  ...                  False                  True   \n",
              "2        False  ...                  False                  True   \n",
              "3         True  ...                  False                  True   \n",
              "4         True  ...                  False                 False   \n",
              "\n",
              "   event_setter  external_dependencies  immutable_states  \\\n",
              "0          True                   True              True   \n",
              "1         False                   True             False   \n",
              "2         False                   True             False   \n",
              "3         False                  False              True   \n",
              "4          True                   True             False   \n",
              "\n",
              "   reentrancy_without_eth_transfer  incorrect_inheritance_order  \\\n",
              "0                             True                        False   \n",
              "1                            False                         True   \n",
              "2                            False                        False   \n",
              "3                             True                        False   \n",
              "4                             True                        False   \n",
              "\n",
              "   shadowing_local  events_maths  \\\n",
              "0            False         False   \n",
              "1            False          True   \n",
              "2             True          True   \n",
              "3            False          True   \n",
              "4            False          True   \n",
              "\n",
              "          Summary/rationale of risk tags marked true  \n",
              "0  Bad Contract: Assigned for flaws that indicate...  \n",
              "1  Summary/rationale of risk tags marked true: Th...  \n",
              "2                                                NaN  \n",
              "3                                                NaN  \n",
              "4  The smart contract is marked with risks such a...  \n",
              "\n",
              "[5 rows x 38 columns]"
            ],
            "text/html": [
              "\n",
              "  <div id=\"df-2f5dc324-5490-4d16-ad79-93260a1bbdf2\" class=\"colab-df-container\">\n",
              "    <div>\n",
              "<style scoped>\n",
              "    .dataframe tbody tr th:only-of-type {\n",
              "        vertical-align: middle;\n",
              "    }\n",
              "\n",
              "    .dataframe tbody tr th {\n",
              "        vertical-align: top;\n",
              "    }\n",
              "\n",
              "    .dataframe thead th {\n",
              "        text-align: right;\n",
              "    }\n",
              "</style>\n",
              "<table border=\"1\" class=\"dataframe\">\n",
              "  <thead>\n",
              "    <tr style=\"text-align: right;\">\n",
              "      <th></th>\n",
              "      <th>project_name</th>\n",
              "      <th>Smart contract address</th>\n",
              "      <th>Blog post link</th>\n",
              "      <th>Audit website</th>\n",
              "      <th>Chain</th>\n",
              "      <th>Is_closed_source</th>\n",
              "      <th>hidden_owner</th>\n",
              "      <th>anti_whale_modifiable</th>\n",
              "      <th>Is_anti_whale</th>\n",
              "      <th>Is_honeypot</th>\n",
              "      <th>...</th>\n",
              "      <th>centralized_risk_high</th>\n",
              "      <th>centralized_risk_low</th>\n",
              "      <th>event_setter</th>\n",
              "      <th>external_dependencies</th>\n",
              "      <th>immutable_states</th>\n",
              "      <th>reentrancy_without_eth_transfer</th>\n",
              "      <th>incorrect_inheritance_order</th>\n",
              "      <th>shadowing_local</th>\n",
              "      <th>events_maths</th>\n",
              "      <th>Summary/rationale of risk tags marked true</th>\n",
              "    </tr>\n",
              "  </thead>\n",
              "  <tbody>\n",
              "    <tr>\n",
              "      <th>0</th>\n",
              "      <td>Data Analytics</td>\n",
              "      <td>384571416209d08623c6ace9422613fc8970475d</td>\n",
              "      <td>https://chainsecurity.com/security-audit/circl...</td>\n",
              "      <td>https://chainsecurity.com</td>\n",
              "      <td>Ethereum</td>\n",
              "      <td>False</td>\n",
              "      <td>False</td>\n",
              "      <td>False</td>\n",
              "      <td>False</td>\n",
              "      <td>False</td>\n",
              "      <td>...</td>\n",
              "      <td>False</td>\n",
              "      <td>False</td>\n",
              "      <td>True</td>\n",
              "      <td>True</td>\n",
              "      <td>True</td>\n",
              "      <td>True</td>\n",
              "      <td>False</td>\n",
              "      <td>False</td>\n",
              "      <td>False</td>\n",
              "      <td>Bad Contract: Assigned for flaws that indicate...</td>\n",
              "    </tr>\n",
              "    <tr>\n",
              "      <th>1</th>\n",
              "      <td>Data Analytics</td>\n",
              "      <td>0xAb5801a7D398351b8bE11C439e05C5B3259ae9B</td>\n",
              "      <td>https://stackoverflow.com/questions/75030483/w...</td>\n",
              "      <td>https://studygroup.moralis.io/t/compilation-er...</td>\n",
              "      <td>Ethereum</td>\n",
              "      <td>False</td>\n",
              "      <td>False</td>\n",
              "      <td>True</td>\n",
              "      <td>True</td>\n",
              "      <td>False</td>\n",
              "      <td>...</td>\n",
              "      <td>False</td>\n",
              "      <td>True</td>\n",
              "      <td>False</td>\n",
              "      <td>True</td>\n",
              "      <td>False</td>\n",
              "      <td>False</td>\n",
              "      <td>True</td>\n",
              "      <td>False</td>\n",
              "      <td>True</td>\n",
              "      <td>Summary/rationale of risk tags marked true: Th...</td>\n",
              "    </tr>\n",
              "    <tr>\n",
              "      <th>2</th>\n",
              "      <td>Data Analytics</td>\n",
              "      <td>0x4B20993Bc481177ec7E8f571ceCaE8A9e22C02db</td>\n",
              "      <td>https://stackoverflow.com/questions/71115106/s...</td>\n",
              "      <td>https://ethereum.stackexchange.com/questions/1...</td>\n",
              "      <td>Ethereum</td>\n",
              "      <td>True</td>\n",
              "      <td>False</td>\n",
              "      <td>False</td>\n",
              "      <td>True</td>\n",
              "      <td>False</td>\n",
              "      <td>...</td>\n",
              "      <td>False</td>\n",
              "      <td>True</td>\n",
              "      <td>False</td>\n",
              "      <td>True</td>\n",
              "      <td>False</td>\n",
              "      <td>False</td>\n",
              "      <td>False</td>\n",
              "      <td>True</td>\n",
              "      <td>True</td>\n",
              "      <td>NaN</td>\n",
              "    </tr>\n",
              "    <tr>\n",
              "      <th>3</th>\n",
              "      <td>Data Analytics</td>\n",
              "      <td>0x78731D3Ca6b7E34aC0F824c42a7cC18A495cabaB</td>\n",
              "      <td>https://stackoverflow.com/questions/75030483/w...</td>\n",
              "      <td>https://studygroup.moralis.io/t/compilation-er...</td>\n",
              "      <td>Ethereum</td>\n",
              "      <td>True</td>\n",
              "      <td>False</td>\n",
              "      <td>False</td>\n",
              "      <td>False</td>\n",
              "      <td>True</td>\n",
              "      <td>...</td>\n",
              "      <td>False</td>\n",
              "      <td>True</td>\n",
              "      <td>False</td>\n",
              "      <td>False</td>\n",
              "      <td>True</td>\n",
              "      <td>True</td>\n",
              "      <td>False</td>\n",
              "      <td>False</td>\n",
              "      <td>True</td>\n",
              "      <td>NaN</td>\n",
              "    </tr>\n",
              "    <tr>\n",
              "      <th>4</th>\n",
              "      <td>Data Analytics</td>\n",
              "      <td>0x617F2E2fD72FD9D5503197092aC168c91465E7f2</td>\n",
              "      <td>https://stackoverflow.com/questions/69466137/h...</td>\n",
              "      <td>https://ethereum.stackexchange.com/questions/1...</td>\n",
              "      <td>Ethereum</td>\n",
              "      <td>True</td>\n",
              "      <td>False</td>\n",
              "      <td>True</td>\n",
              "      <td>False</td>\n",
              "      <td>True</td>\n",
              "      <td>...</td>\n",
              "      <td>False</td>\n",
              "      <td>False</td>\n",
              "      <td>True</td>\n",
              "      <td>True</td>\n",
              "      <td>False</td>\n",
              "      <td>True</td>\n",
              "      <td>False</td>\n",
              "      <td>False</td>\n",
              "      <td>True</td>\n",
              "      <td>The smart contract is marked with risks such a...</td>\n",
              "    </tr>\n",
              "  </tbody>\n",
              "</table>\n",
              "<p>5 rows × 38 columns</p>\n",
              "</div>\n",
              "    <div class=\"colab-df-buttons\">\n",
              "\n",
              "  <div class=\"colab-df-container\">\n",
              "    <button class=\"colab-df-convert\" onclick=\"convertToInteractive('df-2f5dc324-5490-4d16-ad79-93260a1bbdf2')\"\n",
              "            title=\"Convert this dataframe to an interactive table.\"\n",
              "            style=\"display:none;\">\n",
              "\n",
              "  <svg xmlns=\"http://www.w3.org/2000/svg\" height=\"24px\" viewBox=\"0 -960 960 960\">\n",
              "    <path d=\"M120-120v-720h720v720H120Zm60-500h600v-160H180v160Zm220 220h160v-160H400v160Zm0 220h160v-160H400v160ZM180-400h160v-160H180v160Zm440 0h160v-160H620v160ZM180-180h160v-160H180v160Zm440 0h160v-160H620v160Z\"/>\n",
              "  </svg>\n",
              "    </button>\n",
              "\n",
              "  <style>\n",
              "    .colab-df-container {\n",
              "      display:flex;\n",
              "      gap: 12px;\n",
              "    }\n",
              "\n",
              "    .colab-df-convert {\n",
              "      background-color: #E8F0FE;\n",
              "      border: none;\n",
              "      border-radius: 50%;\n",
              "      cursor: pointer;\n",
              "      display: none;\n",
              "      fill: #1967D2;\n",
              "      height: 32px;\n",
              "      padding: 0 0 0 0;\n",
              "      width: 32px;\n",
              "    }\n",
              "\n",
              "    .colab-df-convert:hover {\n",
              "      background-color: #E2EBFA;\n",
              "      box-shadow: 0px 1px 2px rgba(60, 64, 67, 0.3), 0px 1px 3px 1px rgba(60, 64, 67, 0.15);\n",
              "      fill: #174EA6;\n",
              "    }\n",
              "\n",
              "    .colab-df-buttons div {\n",
              "      margin-bottom: 4px;\n",
              "    }\n",
              "\n",
              "    [theme=dark] .colab-df-convert {\n",
              "      background-color: #3B4455;\n",
              "      fill: #D2E3FC;\n",
              "    }\n",
              "\n",
              "    [theme=dark] .colab-df-convert:hover {\n",
              "      background-color: #434B5C;\n",
              "      box-shadow: 0px 1px 3px 1px rgba(0, 0, 0, 0.15);\n",
              "      filter: drop-shadow(0px 1px 2px rgba(0, 0, 0, 0.3));\n",
              "      fill: #FFFFFF;\n",
              "    }\n",
              "  </style>\n",
              "\n",
              "    <script>\n",
              "      const buttonEl =\n",
              "        document.querySelector('#df-2f5dc324-5490-4d16-ad79-93260a1bbdf2 button.colab-df-convert');\n",
              "      buttonEl.style.display =\n",
              "        google.colab.kernel.accessAllowed ? 'block' : 'none';\n",
              "\n",
              "      async function convertToInteractive(key) {\n",
              "        const element = document.querySelector('#df-2f5dc324-5490-4d16-ad79-93260a1bbdf2');\n",
              "        const dataTable =\n",
              "          await google.colab.kernel.invokeFunction('convertToInteractive',\n",
              "                                                    [key], {});\n",
              "        if (!dataTable) return;\n",
              "\n",
              "        const docLinkHtml = 'Like what you see? Visit the ' +\n",
              "          '<a target=\"_blank\" href=https://colab.research.google.com/notebooks/data_table.ipynb>data table notebook</a>'\n",
              "          + ' to learn more about interactive tables.';\n",
              "        element.innerHTML = '';\n",
              "        dataTable['output_type'] = 'display_data';\n",
              "        await google.colab.output.renderOutput(dataTable, element);\n",
              "        const docLink = document.createElement('div');\n",
              "        docLink.innerHTML = docLinkHtml;\n",
              "        element.appendChild(docLink);\n",
              "      }\n",
              "    </script>\n",
              "  </div>\n",
              "\n",
              "\n",
              "<div id=\"df-63a46b39-d3b2-4c17-8d08-0c2940a3b0fd\">\n",
              "  <button class=\"colab-df-quickchart\" onclick=\"quickchart('df-63a46b39-d3b2-4c17-8d08-0c2940a3b0fd')\"\n",
              "            title=\"Suggest charts\"\n",
              "            style=\"display:none;\">\n",
              "\n",
              "<svg xmlns=\"http://www.w3.org/2000/svg\" height=\"24px\"viewBox=\"0 0 24 24\"\n",
              "     width=\"24px\">\n",
              "    <g>\n",
              "        <path d=\"M19 3H5c-1.1 0-2 .9-2 2v14c0 1.1.9 2 2 2h14c1.1 0 2-.9 2-2V5c0-1.1-.9-2-2-2zM9 17H7v-7h2v7zm4 0h-2V7h2v10zm4 0h-2v-4h2v4z\"/>\n",
              "    </g>\n",
              "</svg>\n",
              "  </button>\n",
              "\n",
              "<style>\n",
              "  .colab-df-quickchart {\n",
              "      --bg-color: #E8F0FE;\n",
              "      --fill-color: #1967D2;\n",
              "      --hover-bg-color: #E2EBFA;\n",
              "      --hover-fill-color: #174EA6;\n",
              "      --disabled-fill-color: #AAA;\n",
              "      --disabled-bg-color: #DDD;\n",
              "  }\n",
              "\n",
              "  [theme=dark] .colab-df-quickchart {\n",
              "      --bg-color: #3B4455;\n",
              "      --fill-color: #D2E3FC;\n",
              "      --hover-bg-color: #434B5C;\n",
              "      --hover-fill-color: #FFFFFF;\n",
              "      --disabled-bg-color: #3B4455;\n",
              "      --disabled-fill-color: #666;\n",
              "  }\n",
              "\n",
              "  .colab-df-quickchart {\n",
              "    background-color: var(--bg-color);\n",
              "    border: none;\n",
              "    border-radius: 50%;\n",
              "    cursor: pointer;\n",
              "    display: none;\n",
              "    fill: var(--fill-color);\n",
              "    height: 32px;\n",
              "    padding: 0;\n",
              "    width: 32px;\n",
              "  }\n",
              "\n",
              "  .colab-df-quickchart:hover {\n",
              "    background-color: var(--hover-bg-color);\n",
              "    box-shadow: 0 1px 2px rgba(60, 64, 67, 0.3), 0 1px 3px 1px rgba(60, 64, 67, 0.15);\n",
              "    fill: var(--button-hover-fill-color);\n",
              "  }\n",
              "\n",
              "  .colab-df-quickchart-complete:disabled,\n",
              "  .colab-df-quickchart-complete:disabled:hover {\n",
              "    background-color: var(--disabled-bg-color);\n",
              "    fill: var(--disabled-fill-color);\n",
              "    box-shadow: none;\n",
              "  }\n",
              "\n",
              "  .colab-df-spinner {\n",
              "    border: 2px solid var(--fill-color);\n",
              "    border-color: transparent;\n",
              "    border-bottom-color: var(--fill-color);\n",
              "    animation:\n",
              "      spin 1s steps(1) infinite;\n",
              "  }\n",
              "\n",
              "  @keyframes spin {\n",
              "    0% {\n",
              "      border-color: transparent;\n",
              "      border-bottom-color: var(--fill-color);\n",
              "      border-left-color: var(--fill-color);\n",
              "    }\n",
              "    20% {\n",
              "      border-color: transparent;\n",
              "      border-left-color: var(--fill-color);\n",
              "      border-top-color: var(--fill-color);\n",
              "    }\n",
              "    30% {\n",
              "      border-color: transparent;\n",
              "      border-left-color: var(--fill-color);\n",
              "      border-top-color: var(--fill-color);\n",
              "      border-right-color: var(--fill-color);\n",
              "    }\n",
              "    40% {\n",
              "      border-color: transparent;\n",
              "      border-right-color: var(--fill-color);\n",
              "      border-top-color: var(--fill-color);\n",
              "    }\n",
              "    60% {\n",
              "      border-color: transparent;\n",
              "      border-right-color: var(--fill-color);\n",
              "    }\n",
              "    80% {\n",
              "      border-color: transparent;\n",
              "      border-right-color: var(--fill-color);\n",
              "      border-bottom-color: var(--fill-color);\n",
              "    }\n",
              "    90% {\n",
              "      border-color: transparent;\n",
              "      border-bottom-color: var(--fill-color);\n",
              "    }\n",
              "  }\n",
              "</style>\n",
              "\n",
              "  <script>\n",
              "    async function quickchart(key) {\n",
              "      const quickchartButtonEl =\n",
              "        document.querySelector('#' + key + ' button');\n",
              "      quickchartButtonEl.disabled = true;  // To prevent multiple clicks.\n",
              "      quickchartButtonEl.classList.add('colab-df-spinner');\n",
              "      try {\n",
              "        const charts = await google.colab.kernel.invokeFunction(\n",
              "            'suggestCharts', [key], {});\n",
              "      } catch (error) {\n",
              "        console.error('Error during call to suggestCharts:', error);\n",
              "      }\n",
              "      quickchartButtonEl.classList.remove('colab-df-spinner');\n",
              "      quickchartButtonEl.classList.add('colab-df-quickchart-complete');\n",
              "    }\n",
              "    (() => {\n",
              "      let quickchartButtonEl =\n",
              "        document.querySelector('#df-63a46b39-d3b2-4c17-8d08-0c2940a3b0fd button');\n",
              "      quickchartButtonEl.style.display =\n",
              "        google.colab.kernel.accessAllowed ? 'block' : 'none';\n",
              "    })();\n",
              "  </script>\n",
              "</div>\n",
              "\n",
              "    </div>\n",
              "  </div>\n"
            ],
            "application/vnd.google.colaboratory.intrinsic+json": {
              "type": "dataframe",
              "variable_name": "df"
            }
          },
          "metadata": {},
          "execution_count": 8
        }
      ]
    },
    {
      "cell_type": "code",
      "source": [
        "# We can then visualize other aspects of the data.\n",
        "# For example, check for data types and null values\n",
        "\n",
        "df.info()"
      ],
      "metadata": {
        "colab": {
          "base_uri": "https://localhost:8080/"
        },
        "id": "c8EiNP_Pgj1t",
        "outputId": "6441fab6-8df9-4603-8587-0f0ca7822f99"
      },
      "execution_count": null,
      "outputs": [
        {
          "output_type": "stream",
          "name": "stdout",
          "text": [
            "<class 'pandas.core.frame.DataFrame'>\n",
            "RangeIndex: 1093 entries, 0 to 1092\n",
            "Data columns (total 38 columns):\n",
            " #   Column                                      Non-Null Count  Dtype \n",
            "---  ------                                      --------------  ----- \n",
            " 0   project_name                                1093 non-null   object\n",
            " 1   Smart contract address                      1093 non-null   object\n",
            " 2   Blog post link                              1093 non-null   object\n",
            " 3   Audit website                               1093 non-null   object\n",
            " 4   Chain                                       1093 non-null   object\n",
            " 5   Is_closed_source                            1093 non-null   bool  \n",
            " 6   hidden_owner                                1093 non-null   bool  \n",
            " 7   anti_whale_modifiable                       1093 non-null   bool  \n",
            " 8   Is_anti_whale                               1093 non-null   bool  \n",
            " 9   Is_honeypot                                 1093 non-null   bool  \n",
            " 10  buy_tax                                     1093 non-null   bool  \n",
            " 11  sell_tax                                    1093 non-null   bool  \n",
            " 12  slippage_modifiable                         1093 non-null   bool  \n",
            " 13  Is_blacklisted                              1093 non-null   bool  \n",
            " 14  can_take_back_ownership                     1093 non-null   bool  \n",
            " 15  owner_change_balance                        1093 non-null   bool  \n",
            " 16  is_airdrop_scam                             1093 non-null   bool  \n",
            " 17  selfdestruct                                1093 non-null   bool  \n",
            " 18  trust_list                                  1093 non-null   bool  \n",
            " 19  is_whitelisted                              1093 non-null   bool  \n",
            " 20  is_fake_token                               1093 non-null   bool  \n",
            " 21  illegal_unicode                             1093 non-null   bool  \n",
            " 22  exploitation                                1093 non-null   bool  \n",
            " 23  bad_contract                                1093 non-null   bool  \n",
            " 24  reusing_state_variable                      1093 non-null   bool  \n",
            " 25  encode_packed_collision                     1093 non-null   bool  \n",
            " 26  encode_packed_parameters                    1093 non-null   bool  \n",
            " 27  centralized_risk_medium                     1093 non-null   bool  \n",
            " 28  centralized_risk_high                       1093 non-null   bool  \n",
            " 29  centralized_risk_low                        1093 non-null   bool  \n",
            " 30  event_setter                                1093 non-null   bool  \n",
            " 31  external_dependencies                       1093 non-null   bool  \n",
            " 32  immutable_states                            1093 non-null   bool  \n",
            " 33  reentrancy_without_eth_transfer             1093 non-null   bool  \n",
            " 34  incorrect_inheritance_order                 1093 non-null   bool  \n",
            " 35  shadowing_local                             1093 non-null   bool  \n",
            " 36  events_maths                                1093 non-null   bool  \n",
            " 37  Summary/rationale of risk tags marked true  701 non-null    object\n",
            "dtypes: bool(32), object(6)\n",
            "memory usage: 85.5+ KB\n"
          ]
        }
      ]
    },
    {
      "cell_type": "markdown",
      "source": [
        "### Frequency Analysis"
      ],
      "metadata": {
        "id": "Y0mXR_-_h87W"
      }
    },
    {
      "cell_type": "code",
      "source": [
        "# Let's now look at the value counts of an individual risk tag: is_airdrop_scam\n",
        "\n",
        "df['is_airdrop_scam'].value_counts()"
      ],
      "metadata": {
        "colab": {
          "base_uri": "https://localhost:8080/"
        },
        "id": "ha_hzeAmgxdA",
        "outputId": "eb30d5ce-46c2-46b9-e20a-71382b6cd763"
      },
      "execution_count": null,
      "outputs": [
        {
          "output_type": "execute_result",
          "data": {
            "text/plain": [
              "is_airdrop_scam\n",
              "False    1024\n",
              "True       69\n",
              "Name: count, dtype: int64"
            ]
          },
          "metadata": {},
          "execution_count": 10
        }
      ]
    },
    {
      "cell_type": "markdown",
      "source": [
        "Okay so we see that over 50% of the dataset has True for the column `is_airdrop_scam`. Note that this is a dummy dataset and in real world you won't have that many scams, atleast we can hope that we don't that many scams.\n",
        "\n",
        "Now, let's define all the risk columns in our dataset so that we can then run the analysis on the same."
      ],
      "metadata": {
        "id": "2oTAulvKg93s"
      }
    },
    {
      "cell_type": "code",
      "source": [
        "risk_columns = ['Is_closed_source', 'hidden_owner', 'anti_whale_modifiable',\n",
        "       'Is_anti_whale', 'Is_honeypot', 'buy_tax', 'sell_tax',\n",
        "       'slippage_modifiable', 'Is_blacklisted', 'can_take_back_ownership',\n",
        "       'owner_change_balance', 'is_airdrop_scam', 'selfdestruct', 'trust_list',\n",
        "       'is_whitelisted', 'is_fake_token', 'illegal_unicode', 'exploitation',\n",
        "       'bad_contract', 'reusing_state_variable', 'encode_packed_collision',\n",
        "       'encode_packed_parameters', 'centralized_risk_medium',\n",
        "       'centralized_risk_high', 'centralized_risk_low', 'event_setter',\n",
        "       'external_dependencies', 'immutable_states',\n",
        "       'reentrancy_without_eth_transfer', 'incorrect_inheritance_order',\n",
        "       'shadowing_local', 'events_maths']"
      ],
      "metadata": {
        "id": "BBP_bzRKhXmv"
      },
      "execution_count": null,
      "outputs": []
    },
    {
      "cell_type": "markdown",
      "source": [
        "Now that we know all the risk columns let's do a full frequency analysis on these columns."
      ],
      "metadata": {
        "id": "68kJLV9NhwDv"
      }
    },
    {
      "cell_type": "code",
      "source": [
        "# Calculating the frequency of 'True' in each risk tag column\n",
        "frequencies = df[risk_columns].apply(lambda x: x.value_counts()).loc[True]\n",
        "frequencies = frequencies.fillna(0)  # Replace NaN with 0 for any column that may not have True values\n",
        "frequencies"
      ],
      "metadata": {
        "colab": {
          "base_uri": "https://localhost:8080/"
        },
        "id": "clDSN-n7hPHT",
        "outputId": "26195550-c2de-4865-ab00-b269428cacf2"
      },
      "execution_count": null,
      "outputs": [
        {
          "output_type": "execute_result",
          "data": {
            "text/plain": [
              "Is_closed_source                   146\n",
              "hidden_owner                       164\n",
              "anti_whale_modifiable              122\n",
              "Is_anti_whale                      155\n",
              "Is_honeypot                         94\n",
              "buy_tax                            128\n",
              "sell_tax                           126\n",
              "slippage_modifiable                149\n",
              "Is_blacklisted                      81\n",
              "can_take_back_ownership            194\n",
              "owner_change_balance               222\n",
              "is_airdrop_scam                     69\n",
              "selfdestruct                       116\n",
              "trust_list                         149\n",
              "is_whitelisted                     109\n",
              "is_fake_token                       90\n",
              "illegal_unicode                     62\n",
              "exploitation                       468\n",
              "bad_contract                       373\n",
              "reusing_state_variable             124\n",
              "encode_packed_collision             81\n",
              "encode_packed_parameters            87\n",
              "centralized_risk_medium            283\n",
              "centralized_risk_high              205\n",
              "centralized_risk_low               190\n",
              "event_setter                       149\n",
              "external_dependencies              316\n",
              "immutable_states                   154\n",
              "reentrancy_without_eth_transfer    199\n",
              "incorrect_inheritance_order        100\n",
              "shadowing_local                     88\n",
              "events_maths                       149\n",
              "Name: True, dtype: int64"
            ]
          },
          "metadata": {},
          "execution_count": 12
        }
      ]
    },
    {
      "cell_type": "markdown",
      "source": [
        "Now that we have the frequencies, we can also visualize these using a barchart"
      ],
      "metadata": {
        "id": "8DJQcUXciNu0"
      }
    },
    {
      "cell_type": "code",
      "source": [
        "# Visualizing the frequencies using a bar chart\n",
        "sns.set_style(\"whitegrid\")\n",
        "plt.figure(figsize=(12, 8))\n",
        "sns.barplot(x=frequencies.index, y=frequencies.values, palette='viridis')\n",
        "plt.title('Frequency of True Values for Each Risk Tag')\n",
        "plt.xlabel('Risk Tags')\n",
        "plt.ylabel('Frequency of True')\n",
        "plt.xticks(rotation=90)\n",
        "plt.show()\n"
      ],
      "metadata": {
        "colab": {
          "base_uri": "https://localhost:8080/",
          "height": 1000
        },
        "id": "kSqpqYXdiSzG",
        "outputId": "7cf8eccb-5c0b-4e88-bd5a-2fe77d62c064"
      },
      "execution_count": null,
      "outputs": [
        {
          "output_type": "stream",
          "name": "stderr",
          "text": [
            "<ipython-input-14-5a383aa58995>:4: FutureWarning: \n",
            "\n",
            "Passing `palette` without assigning `hue` is deprecated and will be removed in v0.14.0. Assign the `x` variable to `hue` and set `legend=False` for the same effect.\n",
            "\n",
            "  sns.barplot(x=frequencies.index, y=frequencies.values, palette='viridis')\n"
          ]
        },
        {
          "output_type": "display_data",
          "data": {
            "text/plain": [
              "<Figure size 1200x800 with 1 Axes>"
            ],
            "image/png": "[encoded data removed]"
          },
          "metadata": {}
        }
      ]
    },
    {
      "cell_type": "markdown",
      "source": [
        "**Again note that this is a dummy dataset. Your frequencies might be significantly lower than this with the real dataset.**"
      ],
      "metadata": {
        "id": "DuTOLeyuiv-b"
      }
    },
    {
      "cell_type": "markdown",
      "source": [
        "# Conclusion\n",
        "Great job! You have successfully completed a frequency analysis of risk tags in smart contracts using Python. You've learned how to load data, perform calculations, and visualize the results using some of the most powerful libraries in Python.\n",
        "\n",
        "## Next Steps\n",
        "- Try modifying the charts or calculations to explore other aspects of the data.\n",
        "- Consider analyzing the frequency of 'False' values or other specific conditions.\n",
        "- Use this notebook as a template for analyzing other datasets.\n",
        "\n",
        "Remember, the skills you've learned here are applicable to a wide range of data analysis tasks. Keep practicing and exploring!\n",
        "\n",
        "Thank you for following along, and happy coding!\n"
      ],
      "metadata": {
        "id": "Q7e8BtYxigBO"
      }
    },
    {
      "cell_type": "markdown",
      "source": [
        "## Tips for Further Learning\n",
        "- Explore the [pandas documentation](https://pandas.pydata.org/pandas-docs/stable/) for more advanced data manipulation techniques.\n",
        "- Dive deeper into [matplotlib](https://matplotlib.org/stable/contents.html) and [seaborn](https://seaborn.pydata.org/) to discover more visualization styles and options.\n",
        "- Participate in online forums and communities to enhance your learning and connect with other learners.\n"
      ],
      "metadata": {
        "id": "A9Jibvx3ilV2"
      }
    }
  ]
}